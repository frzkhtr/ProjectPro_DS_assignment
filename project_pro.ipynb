{
  "nbformat": 4,
  "nbformat_minor": 0,
  "metadata": {
    "colab": {
      "name": "project_pro.ipynb",
      "provenance": [],
      "collapsed_sections": []
    },
    "kernelspec": {
      "name": "python3",
      "display_name": "Python 3"
    },
    "language_info": {
      "name": "python"
    }
  },
  "cells": [
    {
      "cell_type": "code",
      "metadata": {
        "colab": {
          "base_uri": "https://localhost:8080/"
        },
        "id": "QoOkQWe0bbKQ",
        "outputId": "e262b8cd-a4ba-47d9-aafc-4266d09b83bc"
      },
      "source": [
        "!pip install explainerdashboard"
      ],
      "execution_count": 1,
      "outputs": [
        {
          "output_type": "stream",
          "name": "stdout",
          "text": [
            "Collecting explainerdashboard\n",
            "  Downloading explainerdashboard-0.3.7-py3-none-any.whl (305 kB)\n",
            "\u001b[?25l\r\u001b[K     |█                               | 10 kB 26.3 MB/s eta 0:00:01\r\u001b[K     |██▏                             | 20 kB 25.5 MB/s eta 0:00:01\r\u001b[K     |███▏                            | 30 kB 18.2 MB/s eta 0:00:01\r\u001b[K     |████▎                           | 40 kB 16.3 MB/s eta 0:00:01\r\u001b[K     |█████▍                          | 51 kB 7.2 MB/s eta 0:00:01\r\u001b[K     |██████▍                         | 61 kB 7.8 MB/s eta 0:00:01\r\u001b[K     |███████▌                        | 71 kB 7.9 MB/s eta 0:00:01\r\u001b[K     |████████▋                       | 81 kB 8.9 MB/s eta 0:00:01\r\u001b[K     |█████████▋                      | 92 kB 9.3 MB/s eta 0:00:01\r\u001b[K     |██████████▊                     | 102 kB 7.1 MB/s eta 0:00:01\r\u001b[K     |███████████▉                    | 112 kB 7.1 MB/s eta 0:00:01\r\u001b[K     |████████████▉                   | 122 kB 7.1 MB/s eta 0:00:01\r\u001b[K     |██████████████                  | 133 kB 7.1 MB/s eta 0:00:01\r\u001b[K     |███████████████                 | 143 kB 7.1 MB/s eta 0:00:01\r\u001b[K     |████████████████                | 153 kB 7.1 MB/s eta 0:00:01\r\u001b[K     |█████████████████▏              | 163 kB 7.1 MB/s eta 0:00:01\r\u001b[K     |██████████████████▎             | 174 kB 7.1 MB/s eta 0:00:01\r\u001b[K     |███████████████████▎            | 184 kB 7.1 MB/s eta 0:00:01\r\u001b[K     |████████████████████▍           | 194 kB 7.1 MB/s eta 0:00:01\r\u001b[K     |█████████████████████▌          | 204 kB 7.1 MB/s eta 0:00:01\r\u001b[K     |██████████████████████▌         | 215 kB 7.1 MB/s eta 0:00:01\r\u001b[K     |███████████████████████▋        | 225 kB 7.1 MB/s eta 0:00:01\r\u001b[K     |████████████████████████▊       | 235 kB 7.1 MB/s eta 0:00:01\r\u001b[K     |█████████████████████████▊      | 245 kB 7.1 MB/s eta 0:00:01\r\u001b[K     |██████████████████████████▉     | 256 kB 7.1 MB/s eta 0:00:01\r\u001b[K     |████████████████████████████    | 266 kB 7.1 MB/s eta 0:00:01\r\u001b[K     |█████████████████████████████   | 276 kB 7.1 MB/s eta 0:00:01\r\u001b[K     |██████████████████████████████  | 286 kB 7.1 MB/s eta 0:00:01\r\u001b[K     |███████████████████████████████▏| 296 kB 7.1 MB/s eta 0:00:01\r\u001b[K     |████████████████████████████████| 305 kB 7.1 MB/s \n",
            "\u001b[?25hRequirement already satisfied: click in /usr/local/lib/python3.7/dist-packages (from explainerdashboard) (7.1.2)\n",
            "Collecting shap>=0.37\n",
            "  Downloading shap-0.40.0.tar.gz (371 kB)\n",
            "\u001b[K     |████████████████████████████████| 371 kB 61.6 MB/s \n",
            "\u001b[?25h  Installing build dependencies ... \u001b[?25l\u001b[?25hdone\n",
            "  Getting requirements to build wheel ... \u001b[?25l\u001b[?25hdone\n",
            "    Preparing wheel metadata ... \u001b[?25l\u001b[?25hdone\n",
            "Collecting dtreeviz>=1.3\n",
            "  Downloading dtreeviz-1.3.2.tar.gz (62 kB)\n",
            "\u001b[K     |████████████████████████████████| 62 kB 715 kB/s \n",
            "\u001b[?25hCollecting oyaml\n",
            "  Downloading oyaml-1.0-py2.py3-none-any.whl (3.0 kB)\n",
            "Collecting dash-auth\n",
            "  Downloading dash_auth-1.4.1.tar.gz (470 kB)\n",
            "\u001b[K     |████████████████████████████████| 470 kB 52.8 MB/s \n",
            "\u001b[?25hRequirement already satisfied: pandas>=1.1 in /usr/local/lib/python3.7/dist-packages (from explainerdashboard) (1.1.5)\n",
            "Requirement already satisfied: scikit-learn in /usr/local/lib/python3.7/dist-packages (from explainerdashboard) (1.0.1)\n",
            "Collecting orjson\n",
            "  Downloading orjson-3.6.4-cp37-cp37m-manylinux_2_24_x86_64.whl (249 kB)\n",
            "\u001b[K     |████████████████████████████████| 249 kB 56.5 MB/s \n",
            "\u001b[?25hCollecting flask-simplelogin\n",
            "  Downloading flask_simplelogin-0.1.1-py3-none-any.whl (7.2 kB)\n",
            "Requirement already satisfied: numpy in /usr/local/lib/python3.7/dist-packages (from explainerdashboard) (1.19.5)\n",
            "Requirement already satisfied: joblib in /usr/local/lib/python3.7/dist-packages (from explainerdashboard) (1.1.0)\n",
            "Collecting waitress\n",
            "  Downloading waitress-2.0.0-py3-none-any.whl (56 kB)\n",
            "\u001b[K     |████████████████████████████████| 56 kB 4.5 MB/s \n",
            "\u001b[?25hCollecting dash>=1.20\n",
            "  Downloading dash-2.0.0-py3-none-any.whl (7.3 MB)\n",
            "\u001b[K     |████████████████████████████████| 7.3 MB 48.5 MB/s \n",
            "\u001b[?25hCollecting jupyter-dash\n",
            "  Downloading jupyter_dash-0.4.0-py3-none-any.whl (20 kB)\n",
            "Collecting dash-bootstrap-components<1\n",
            "  Downloading dash_bootstrap_components-0.13.1-py3-none-any.whl (197 kB)\n",
            "\u001b[K     |████████████████████████████████| 197 kB 50.0 MB/s \n",
            "\u001b[?25hCollecting dash-table==5.0.0\n",
            "  Downloading dash_table-5.0.0.tar.gz (3.4 kB)\n",
            "Collecting plotly>=5.0.0\n",
            "  Downloading plotly-5.4.0-py2.py3-none-any.whl (25.3 MB)\n",
            "\u001b[K     |████████████████████████████████| 25.3 MB 48.9 MB/s \n",
            "\u001b[?25hCollecting flask-compress\n",
            "  Downloading Flask_Compress-1.10.1-py3-none-any.whl (7.9 kB)\n",
            "Collecting dash-html-components==2.0.0\n",
            "  Downloading dash_html_components-2.0.0.tar.gz (3.8 kB)\n",
            "Requirement already satisfied: Flask>=1.0.4 in /usr/local/lib/python3.7/dist-packages (from dash>=1.20->explainerdashboard) (1.1.4)\n",
            "Collecting dash-core-components==2.0.0\n",
            "  Downloading dash_core_components-2.0.0.tar.gz (3.4 kB)\n",
            "Requirement already satisfied: graphviz>=0.9 in /usr/local/lib/python3.7/dist-packages (from dtreeviz>=1.3->explainerdashboard) (0.10.1)\n",
            "Requirement already satisfied: matplotlib in /usr/local/lib/python3.7/dist-packages (from dtreeviz>=1.3->explainerdashboard) (3.2.2)\n",
            "Collecting colour\n",
            "  Downloading colour-0.1.5-py2.py3-none-any.whl (23 kB)\n",
            "Requirement already satisfied: pytest in /usr/local/lib/python3.7/dist-packages (from dtreeviz>=1.3->explainerdashboard) (3.6.4)\n",
            "Requirement already satisfied: itsdangerous<2.0,>=0.24 in /usr/local/lib/python3.7/dist-packages (from Flask>=1.0.4->dash>=1.20->explainerdashboard) (1.1.0)\n",
            "Requirement already satisfied: Jinja2<3.0,>=2.10.1 in /usr/local/lib/python3.7/dist-packages (from Flask>=1.0.4->dash>=1.20->explainerdashboard) (2.11.3)\n",
            "Requirement already satisfied: Werkzeug<2.0,>=0.15 in /usr/local/lib/python3.7/dist-packages (from Flask>=1.0.4->dash>=1.20->explainerdashboard) (1.0.1)\n",
            "Requirement already satisfied: MarkupSafe>=0.23 in /usr/local/lib/python3.7/dist-packages (from Jinja2<3.0,>=2.10.1->Flask>=1.0.4->dash>=1.20->explainerdashboard) (2.0.1)\n",
            "Requirement already satisfied: pytz>=2017.2 in /usr/local/lib/python3.7/dist-packages (from pandas>=1.1->explainerdashboard) (2018.9)\n",
            "Requirement already satisfied: python-dateutil>=2.7.3 in /usr/local/lib/python3.7/dist-packages (from pandas>=1.1->explainerdashboard) (2.8.2)\n",
            "Collecting tenacity>=6.2.0\n",
            "  Downloading tenacity-8.0.1-py3-none-any.whl (24 kB)\n",
            "Requirement already satisfied: six in /usr/local/lib/python3.7/dist-packages (from plotly>=5.0.0->dash>=1.20->explainerdashboard) (1.15.0)\n",
            "Requirement already satisfied: scipy in /usr/local/lib/python3.7/dist-packages (from shap>=0.37->explainerdashboard) (1.4.1)\n",
            "Collecting slicer==0.0.7\n",
            "  Downloading slicer-0.0.7-py3-none-any.whl (14 kB)\n",
            "Requirement already satisfied: cloudpickle in /usr/local/lib/python3.7/dist-packages (from shap>=0.37->explainerdashboard) (1.3.0)\n",
            "Requirement already satisfied: packaging>20.9 in /usr/local/lib/python3.7/dist-packages (from shap>=0.37->explainerdashboard) (21.3)\n",
            "Requirement already satisfied: tqdm>4.25.0 in /usr/local/lib/python3.7/dist-packages (from shap>=0.37->explainerdashboard) (4.62.3)\n",
            "Requirement already satisfied: numba in /usr/local/lib/python3.7/dist-packages (from shap>=0.37->explainerdashboard) (0.51.2)\n",
            "Requirement already satisfied: pyparsing!=3.0.5,>=2.0.2 in /usr/local/lib/python3.7/dist-packages (from packaging>20.9->shap>=0.37->explainerdashboard) (3.0.6)\n",
            "Collecting chart_studio>=1.0.0\n",
            "  Downloading chart_studio-1.1.0-py3-none-any.whl (64 kB)\n",
            "\u001b[K     |████████████████████████████████| 64 kB 3.1 MB/s \n",
            "\u001b[?25hCollecting flask-seasurf\n",
            "  Downloading Flask_SeaSurf-0.3.1-py3-none-any.whl (8.1 kB)\n",
            "Requirement already satisfied: requests in /usr/local/lib/python3.7/dist-packages (from dash-auth->explainerdashboard) (2.23.0)\n",
            "Requirement already satisfied: retrying in /usr/local/lib/python3.7/dist-packages (from dash-auth->explainerdashboard) (1.3.3)\n",
            "Collecting ua_parser\n",
            "  Downloading ua_parser-0.10.0-py2.py3-none-any.whl (35 kB)\n",
            "Collecting brotli\n",
            "  Downloading Brotli-1.0.9-cp37-cp37m-manylinux1_x86_64.whl (357 kB)\n",
            "\u001b[K     |████████████████████████████████| 357 kB 59.3 MB/s \n",
            "\u001b[?25hCollecting flask-simplelogin\n",
            "  Downloading flask_simplelogin-0.1.0-py3-none-any.whl (7.0 kB)\n",
            "  Downloading flask_simplelogin-0.0.7-py2.py3-none-any.whl (18 kB)\n",
            "Collecting flask_wtf\n",
            "  Downloading Flask_WTF-1.0.0-py3-none-any.whl (12 kB)\n",
            "Collecting WTForms\n",
            "  Downloading WTForms-3.0.0-py3-none-any.whl (136 kB)\n",
            "\u001b[K     |████████████████████████████████| 136 kB 49.0 MB/s \n",
            "\u001b[?25hRequirement already satisfied: ipython in /usr/local/lib/python3.7/dist-packages (from jupyter-dash->explainerdashboard) (5.5.0)\n",
            "Requirement already satisfied: ipykernel in /usr/local/lib/python3.7/dist-packages (from jupyter-dash->explainerdashboard) (4.10.1)\n",
            "Collecting ansi2html\n",
            "  Downloading ansi2html-1.6.0-py3-none-any.whl (14 kB)\n",
            "Requirement already satisfied: jupyter-client in /usr/local/lib/python3.7/dist-packages (from ipykernel->jupyter-dash->explainerdashboard) (5.3.5)\n",
            "Requirement already satisfied: tornado>=4.0 in /usr/local/lib/python3.7/dist-packages (from ipykernel->jupyter-dash->explainerdashboard) (5.1.1)\n",
            "Requirement already satisfied: traitlets>=4.1.0 in /usr/local/lib/python3.7/dist-packages (from ipykernel->jupyter-dash->explainerdashboard) (5.1.1)\n",
            "Requirement already satisfied: setuptools>=18.5 in /usr/local/lib/python3.7/dist-packages (from ipython->jupyter-dash->explainerdashboard) (57.4.0)\n",
            "Requirement already satisfied: decorator in /usr/local/lib/python3.7/dist-packages (from ipython->jupyter-dash->explainerdashboard) (4.4.2)\n",
            "Requirement already satisfied: pexpect in /usr/local/lib/python3.7/dist-packages (from ipython->jupyter-dash->explainerdashboard) (4.8.0)\n",
            "Requirement already satisfied: pickleshare in /usr/local/lib/python3.7/dist-packages (from ipython->jupyter-dash->explainerdashboard) (0.7.5)\n",
            "Requirement already satisfied: pygments in /usr/local/lib/python3.7/dist-packages (from ipython->jupyter-dash->explainerdashboard) (2.6.1)\n",
            "Requirement already satisfied: simplegeneric>0.8 in /usr/local/lib/python3.7/dist-packages (from ipython->jupyter-dash->explainerdashboard) (0.8.1)\n",
            "Requirement already satisfied: prompt-toolkit<2.0.0,>=1.0.4 in /usr/local/lib/python3.7/dist-packages (from ipython->jupyter-dash->explainerdashboard) (1.0.18)\n",
            "Requirement already satisfied: wcwidth in /usr/local/lib/python3.7/dist-packages (from prompt-toolkit<2.0.0,>=1.0.4->ipython->jupyter-dash->explainerdashboard) (0.2.5)\n",
            "Requirement already satisfied: pyzmq>=13 in /usr/local/lib/python3.7/dist-packages (from jupyter-client->ipykernel->jupyter-dash->explainerdashboard) (22.3.0)\n",
            "Requirement already satisfied: jupyter-core>=4.6.0 in /usr/local/lib/python3.7/dist-packages (from jupyter-client->ipykernel->jupyter-dash->explainerdashboard) (4.9.1)\n",
            "Requirement already satisfied: kiwisolver>=1.0.1 in /usr/local/lib/python3.7/dist-packages (from matplotlib->dtreeviz>=1.3->explainerdashboard) (1.3.2)\n",
            "Requirement already satisfied: cycler>=0.10 in /usr/local/lib/python3.7/dist-packages (from matplotlib->dtreeviz>=1.3->explainerdashboard) (0.11.0)\n",
            "Requirement already satisfied: llvmlite<0.35,>=0.34.0.dev0 in /usr/local/lib/python3.7/dist-packages (from numba->shap>=0.37->explainerdashboard) (0.34.0)\n",
            "Requirement already satisfied: pyyaml in /usr/local/lib/python3.7/dist-packages (from oyaml->explainerdashboard) (3.13)\n",
            "Requirement already satisfied: ptyprocess>=0.5 in /usr/local/lib/python3.7/dist-packages (from pexpect->ipython->jupyter-dash->explainerdashboard) (0.7.0)\n",
            "Requirement already satisfied: attrs>=17.4.0 in /usr/local/lib/python3.7/dist-packages (from pytest->dtreeviz>=1.3->explainerdashboard) (21.2.0)\n",
            "Requirement already satisfied: py>=1.5.0 in /usr/local/lib/python3.7/dist-packages (from pytest->dtreeviz>=1.3->explainerdashboard) (1.11.0)\n",
            "Requirement already satisfied: more-itertools>=4.0.0 in /usr/local/lib/python3.7/dist-packages (from pytest->dtreeviz>=1.3->explainerdashboard) (8.11.0)\n",
            "Requirement already satisfied: pluggy<0.8,>=0.5 in /usr/local/lib/python3.7/dist-packages (from pytest->dtreeviz>=1.3->explainerdashboard) (0.7.1)\n",
            "Requirement already satisfied: atomicwrites>=1.0 in /usr/local/lib/python3.7/dist-packages (from pytest->dtreeviz>=1.3->explainerdashboard) (1.4.0)\n",
            "Requirement already satisfied: certifi>=2017.4.17 in /usr/local/lib/python3.7/dist-packages (from requests->dash-auth->explainerdashboard) (2021.10.8)\n",
            "Requirement already satisfied: urllib3!=1.25.0,!=1.25.1,<1.26,>=1.21.1 in /usr/local/lib/python3.7/dist-packages (from requests->dash-auth->explainerdashboard) (1.24.3)\n",
            "Requirement already satisfied: idna<3,>=2.5 in /usr/local/lib/python3.7/dist-packages (from requests->dash-auth->explainerdashboard) (2.10)\n",
            "Requirement already satisfied: chardet<4,>=3.0.2 in /usr/local/lib/python3.7/dist-packages (from requests->dash-auth->explainerdashboard) (3.0.4)\n",
            "Requirement already satisfied: threadpoolctl>=2.0.0 in /usr/local/lib/python3.7/dist-packages (from scikit-learn->explainerdashboard) (3.0.0)\n",
            "Building wheels for collected packages: dash-core-components, dash-html-components, dash-table, dtreeviz, shap, dash-auth\n",
            "  Building wheel for dash-core-components (setup.py) ... \u001b[?25l\u001b[?25hdone\n",
            "  Created wheel for dash-core-components: filename=dash_core_components-2.0.0-py3-none-any.whl size=3821 sha256=924937b47a4eaf8a1b1bb3dab02c68e944e797dac5ada4aa1fd49b0f0171ff41\n",
            "  Stored in directory: /root/.cache/pip/wheels/00/f9/c7/1a6437d794ed753ea9bc9079e761d4fc803a1f1f5d3697b9ec\n",
            "  Building wheel for dash-html-components (setup.py) ... \u001b[?25l\u001b[?25hdone\n",
            "  Created wheel for dash-html-components: filename=dash_html_components-2.0.0-py3-none-any.whl size=4089 sha256=ce11537925631acd0e739c02773c1786d21df3c74dfa5e39ee691b73cd52be38\n",
            "  Stored in directory: /root/.cache/pip/wheels/ec/6b/81/05aceabd8b27f724e2c96784016287cc1bfbc349ebfda451de\n",
            "  Building wheel for dash-table (setup.py) ... \u001b[?25l\u001b[?25hdone\n",
            "  Created wheel for dash-table: filename=dash_table-5.0.0-py3-none-any.whl size=3911 sha256=d9576e87fefd76109293f65c9739342c61c0a8a6b22d687b3293e8d7fc6a7998\n",
            "  Stored in directory: /root/.cache/pip/wheels/85/5d/4e/7c276b57992951dbe770bf5caad6448d0539c510663aefd2e2\n",
            "  Building wheel for dtreeviz (setup.py) ... \u001b[?25l\u001b[?25hdone\n",
            "  Created wheel for dtreeviz: filename=dtreeviz-1.3.2-py3-none-any.whl size=67936 sha256=2fa8368b94ce334e9436c502cb597ce261967782fc110ba01ac7b72ea446cde8\n",
            "  Stored in directory: /root/.cache/pip/wheels/9d/29/a1/f2ad20de79875e749330d5c6234fc5f517991fcaa23d7a3d0f\n",
            "  Building wheel for shap (PEP 517) ... \u001b[?25l\u001b[?25hdone\n",
            "  Created wheel for shap: filename=shap-0.40.0-cp37-cp37m-linux_x86_64.whl size=509230 sha256=d250113403ecfd7260ab174fe44ee8532b7881786858cf515f27e377b4963d14\n",
            "  Stored in directory: /root/.cache/pip/wheels/ec/35/84/e304841ac4b910bc95fe9a6e5302eb2507b4333728851dcbfb\n",
            "  Building wheel for dash-auth (setup.py) ... \u001b[?25l\u001b[?25hdone\n",
            "  Created wheel for dash-auth: filename=dash_auth-1.4.1-py3-none-any.whl size=476151 sha256=965e78a7e54c162b31786cf7c806d2c9bf7dd7e0147ca994cc17f5146a3aeb82\n",
            "  Stored in directory: /root/.cache/pip/wheels/19/b2/02/3c3f05988ff92f02c52ce4e081859d423537e8e9b13f673c02\n",
            "Successfully built dash-core-components dash-html-components dash-table dtreeviz shap dash-auth\n",
            "Installing collected packages: tenacity, brotli, WTForms, plotly, flask-compress, dash-table, dash-html-components, dash-core-components, ua-parser, slicer, flask-wtf, flask-seasurf, dash, colour, chart-studio, ansi2html, waitress, shap, oyaml, orjson, jupyter-dash, flask-simplelogin, dtreeviz, dash-bootstrap-components, dash-auth, explainerdashboard\n",
            "  Attempting uninstall: plotly\n",
            "    Found existing installation: plotly 4.4.1\n",
            "    Uninstalling plotly-4.4.1:\n",
            "      Successfully uninstalled plotly-4.4.1\n",
            "Successfully installed WTForms-3.0.0 ansi2html-1.6.0 brotli-1.0.9 chart-studio-1.1.0 colour-0.1.5 dash-2.0.0 dash-auth-1.4.1 dash-bootstrap-components-0.13.1 dash-core-components-2.0.0 dash-html-components-2.0.0 dash-table-5.0.0 dtreeviz-1.3.2 explainerdashboard-0.3.7 flask-compress-1.10.1 flask-seasurf-0.3.1 flask-simplelogin-0.0.7 flask-wtf-1.0.0 jupyter-dash-0.4.0 orjson-3.6.4 oyaml-1.0 plotly-5.4.0 shap-0.40.0 slicer-0.0.7 tenacity-8.0.1 ua-parser-0.10.0 waitress-2.0.0\n"
          ]
        }
      ]
    },
    {
      "cell_type": "code",
      "metadata": {
        "id": "m2QISSrJbn2m"
      },
      "source": [
        "#import streamlit as st\n",
        "import pandas as pd\n",
        "import numpy as np\n",
        "#from explainerdashboard import ClassifierExplainer, ExplainerDashboard\n",
        "from sklearn.preprocessing import LabelEncoder, StandardScaler\n",
        "from sklearn.model_selection import train_test_split\n",
        "import sklearn.metrics\n",
        "from sklearn.metrics import classification_report, confusion_matrix\n",
        "from sklearn.model_selection import RandomizedSearchCV\n",
        "#from pylab import rcParams\n",
        "#from imblearn.combine import SMOTEENN, SMOTETomek\n",
        "#from imblearn.over_sampling import SMOTE, ADASYN\n",
        "from explainerdashboard import ClassifierExplainer, ExplainerDashboard\n",
        "import xgboost\n",
        "import matplotlib.pyplot as plt\n",
        "import seaborn as sns"
      ],
      "execution_count": 21,
      "outputs": []
    },
    {
      "cell_type": "code",
      "metadata": {
        "id": "2VBbB_3Eb3m_",
        "colab": {
          "base_uri": "https://localhost:8080/",
          "height": 226
        },
        "outputId": "ed94554f-e963-4353-9ab0-352ba7368ccb"
      },
      "source": [
        "#data load\n",
        "df = pd.read_csv('/content/drive/MyDrive/projectpro/Data.csv')\n",
        "df.head()"
      ],
      "execution_count": 22,
      "outputs": [
        {
          "output_type": "execute_result",
          "data": {
            "text/html": [
              "<div>\n",
              "<style scoped>\n",
              "    .dataframe tbody tr th:only-of-type {\n",
              "        vertical-align: middle;\n",
              "    }\n",
              "\n",
              "    .dataframe tbody tr th {\n",
              "        vertical-align: top;\n",
              "    }\n",
              "\n",
              "    .dataframe thead th {\n",
              "        text-align: right;\n",
              "    }\n",
              "</style>\n",
              "<table border=\"1\" class=\"dataframe\">\n",
              "  <thead>\n",
              "    <tr style=\"text-align: right;\">\n",
              "      <th></th>\n",
              "      <th>year</th>\n",
              "      <th>customer_id</th>\n",
              "      <th>phone_no</th>\n",
              "      <th>gender</th>\n",
              "      <th>age</th>\n",
              "      <th>no_of_days_subscribed</th>\n",
              "      <th>multi_screen</th>\n",
              "      <th>mail_subscribed</th>\n",
              "      <th>weekly_mins_watched</th>\n",
              "      <th>minimum_daily_mins</th>\n",
              "      <th>maximum_daily_mins</th>\n",
              "      <th>weekly_max_night_mins</th>\n",
              "      <th>videos_watched</th>\n",
              "      <th>maximum_days_inactive</th>\n",
              "      <th>customer_support_calls</th>\n",
              "      <th>churn</th>\n",
              "    </tr>\n",
              "  </thead>\n",
              "  <tbody>\n",
              "    <tr>\n",
              "      <th>0</th>\n",
              "      <td>2015</td>\n",
              "      <td>100198</td>\n",
              "      <td>409-8743</td>\n",
              "      <td>Female</td>\n",
              "      <td>36</td>\n",
              "      <td>62.0</td>\n",
              "      <td>no</td>\n",
              "      <td>no</td>\n",
              "      <td>148.35</td>\n",
              "      <td>12.2</td>\n",
              "      <td>16.81</td>\n",
              "      <td>82</td>\n",
              "      <td>1.0</td>\n",
              "      <td>4</td>\n",
              "      <td>1</td>\n",
              "      <td>0.0</td>\n",
              "    </tr>\n",
              "    <tr>\n",
              "      <th>1</th>\n",
              "      <td>2015</td>\n",
              "      <td>100643</td>\n",
              "      <td>340-5930</td>\n",
              "      <td>Female</td>\n",
              "      <td>39</td>\n",
              "      <td>149.0</td>\n",
              "      <td>no</td>\n",
              "      <td>no</td>\n",
              "      <td>294.45</td>\n",
              "      <td>7.7</td>\n",
              "      <td>33.37</td>\n",
              "      <td>87</td>\n",
              "      <td>3.0</td>\n",
              "      <td>3</td>\n",
              "      <td>2</td>\n",
              "      <td>0.0</td>\n",
              "    </tr>\n",
              "    <tr>\n",
              "      <th>2</th>\n",
              "      <td>2015</td>\n",
              "      <td>100756</td>\n",
              "      <td>372-3750</td>\n",
              "      <td>Female</td>\n",
              "      <td>65</td>\n",
              "      <td>126.0</td>\n",
              "      <td>no</td>\n",
              "      <td>no</td>\n",
              "      <td>87.30</td>\n",
              "      <td>11.9</td>\n",
              "      <td>9.89</td>\n",
              "      <td>91</td>\n",
              "      <td>1.0</td>\n",
              "      <td>4</td>\n",
              "      <td>5</td>\n",
              "      <td>1.0</td>\n",
              "    </tr>\n",
              "    <tr>\n",
              "      <th>3</th>\n",
              "      <td>2015</td>\n",
              "      <td>101595</td>\n",
              "      <td>331-4902</td>\n",
              "      <td>Female</td>\n",
              "      <td>24</td>\n",
              "      <td>131.0</td>\n",
              "      <td>no</td>\n",
              "      <td>yes</td>\n",
              "      <td>321.30</td>\n",
              "      <td>9.5</td>\n",
              "      <td>36.41</td>\n",
              "      <td>102</td>\n",
              "      <td>4.0</td>\n",
              "      <td>3</td>\n",
              "      <td>3</td>\n",
              "      <td>0.0</td>\n",
              "    </tr>\n",
              "    <tr>\n",
              "      <th>4</th>\n",
              "      <td>2015</td>\n",
              "      <td>101653</td>\n",
              "      <td>351-8398</td>\n",
              "      <td>Female</td>\n",
              "      <td>40</td>\n",
              "      <td>191.0</td>\n",
              "      <td>no</td>\n",
              "      <td>no</td>\n",
              "      <td>243.00</td>\n",
              "      <td>10.9</td>\n",
              "      <td>27.54</td>\n",
              "      <td>83</td>\n",
              "      <td>7.0</td>\n",
              "      <td>3</td>\n",
              "      <td>1</td>\n",
              "      <td>0.0</td>\n",
              "    </tr>\n",
              "  </tbody>\n",
              "</table>\n",
              "</div>"
            ],
            "text/plain": [
              "   year  customer_id  ... customer_support_calls churn\n",
              "0  2015       100198  ...                      1   0.0\n",
              "1  2015       100643  ...                      2   0.0\n",
              "2  2015       100756  ...                      5   1.0\n",
              "3  2015       101595  ...                      3   0.0\n",
              "4  2015       101653  ...                      1   0.0\n",
              "\n",
              "[5 rows x 16 columns]"
            ]
          },
          "metadata": {},
          "execution_count": 22
        }
      ]
    },
    {
      "cell_type": "code",
      "metadata": {
        "colab": {
          "base_uri": "https://localhost:8080/"
        },
        "id": "ztc0V5MUcLMC",
        "outputId": "b78141b2-38fb-4f10-a633-39a809e66c57"
      },
      "source": [
        "#data information\n",
        "df.info()"
      ],
      "execution_count": 23,
      "outputs": [
        {
          "output_type": "stream",
          "name": "stdout",
          "text": [
            "<class 'pandas.core.frame.DataFrame'>\n",
            "RangeIndex: 2000 entries, 0 to 1999\n",
            "Data columns (total 16 columns):\n",
            " #   Column                  Non-Null Count  Dtype  \n",
            "---  ------                  --------------  -----  \n",
            " 0   year                    2000 non-null   int64  \n",
            " 1   customer_id             2000 non-null   int64  \n",
            " 2   phone_no                2000 non-null   object \n",
            " 3   gender                  1976 non-null   object \n",
            " 4   age                     2000 non-null   int64  \n",
            " 5   no_of_days_subscribed   1980 non-null   float64\n",
            " 6   multi_screen            2000 non-null   object \n",
            " 7   mail_subscribed         2000 non-null   object \n",
            " 8   weekly_mins_watched     1990 non-null   float64\n",
            " 9   minimum_daily_mins      2000 non-null   float64\n",
            " 10  maximum_daily_mins      2000 non-null   float64\n",
            " 11  weekly_max_night_mins   2000 non-null   int64  \n",
            " 12  videos_watched          1975 non-null   float64\n",
            " 13  maximum_days_inactive   1972 non-null   object \n",
            " 14  customer_support_calls  2000 non-null   int64  \n",
            " 15  churn                   1965 non-null   float64\n",
            "dtypes: float64(6), int64(5), object(5)\n",
            "memory usage: 250.1+ KB\n"
          ]
        }
      ]
    },
    {
      "cell_type": "code",
      "metadata": {
        "colab": {
          "base_uri": "https://localhost:8080/",
          "height": 320
        },
        "id": "sM6bz0Nsc0Jk",
        "outputId": "cbb154fd-3949-4b78-f806-25ab0d331586"
      },
      "source": [
        "#statistical values of variable\n",
        "df.describe()"
      ],
      "execution_count": 24,
      "outputs": [
        {
          "output_type": "execute_result",
          "data": {
            "text/html": [
              "<div>\n",
              "<style scoped>\n",
              "    .dataframe tbody tr th:only-of-type {\n",
              "        vertical-align: middle;\n",
              "    }\n",
              "\n",
              "    .dataframe tbody tr th {\n",
              "        vertical-align: top;\n",
              "    }\n",
              "\n",
              "    .dataframe thead th {\n",
              "        text-align: right;\n",
              "    }\n",
              "</style>\n",
              "<table border=\"1\" class=\"dataframe\">\n",
              "  <thead>\n",
              "    <tr style=\"text-align: right;\">\n",
              "      <th></th>\n",
              "      <th>year</th>\n",
              "      <th>customer_id</th>\n",
              "      <th>age</th>\n",
              "      <th>no_of_days_subscribed</th>\n",
              "      <th>weekly_mins_watched</th>\n",
              "      <th>minimum_daily_mins</th>\n",
              "      <th>maximum_daily_mins</th>\n",
              "      <th>weekly_max_night_mins</th>\n",
              "      <th>videos_watched</th>\n",
              "      <th>customer_support_calls</th>\n",
              "      <th>churn</th>\n",
              "    </tr>\n",
              "  </thead>\n",
              "  <tbody>\n",
              "    <tr>\n",
              "      <th>count</th>\n",
              "      <td>2000.000000</td>\n",
              "      <td>2000.000000</td>\n",
              "      <td>2000.00000</td>\n",
              "      <td>1980.000000</td>\n",
              "      <td>1990.000000</td>\n",
              "      <td>2000.000000</td>\n",
              "      <td>2000.000000</td>\n",
              "      <td>2000.000000</td>\n",
              "      <td>1975.000000</td>\n",
              "      <td>2000.000000</td>\n",
              "      <td>1965.000000</td>\n",
              "    </tr>\n",
              "    <tr>\n",
              "      <th>mean</th>\n",
              "      <td>2015.322000</td>\n",
              "      <td>554887.157500</td>\n",
              "      <td>38.69050</td>\n",
              "      <td>99.888384</td>\n",
              "      <td>454.721809</td>\n",
              "      <td>10.198700</td>\n",
              "      <td>30.620780</td>\n",
              "      <td>100.415500</td>\n",
              "      <td>4.488608</td>\n",
              "      <td>1.547000</td>\n",
              "      <td>0.133333</td>\n",
              "    </tr>\n",
              "    <tr>\n",
              "      <th>std</th>\n",
              "      <td>1.466762</td>\n",
              "      <td>261033.690318</td>\n",
              "      <td>10.20641</td>\n",
              "      <td>39.727167</td>\n",
              "      <td>2235.190834</td>\n",
              "      <td>2.785519</td>\n",
              "      <td>9.129165</td>\n",
              "      <td>19.529454</td>\n",
              "      <td>2.491067</td>\n",
              "      <td>1.315164</td>\n",
              "      <td>0.340021</td>\n",
              "    </tr>\n",
              "    <tr>\n",
              "      <th>min</th>\n",
              "      <td>2015.000000</td>\n",
              "      <td>100198.000000</td>\n",
              "      <td>18.00000</td>\n",
              "      <td>1.000000</td>\n",
              "      <td>0.000000</td>\n",
              "      <td>0.000000</td>\n",
              "      <td>0.000000</td>\n",
              "      <td>42.000000</td>\n",
              "      <td>0.000000</td>\n",
              "      <td>0.000000</td>\n",
              "      <td>0.000000</td>\n",
              "    </tr>\n",
              "    <tr>\n",
              "      <th>25%</th>\n",
              "      <td>2015.000000</td>\n",
              "      <td>328634.750000</td>\n",
              "      <td>32.00000</td>\n",
              "      <td>73.000000</td>\n",
              "      <td>219.450000</td>\n",
              "      <td>8.400000</td>\n",
              "      <td>24.735000</td>\n",
              "      <td>87.000000</td>\n",
              "      <td>3.000000</td>\n",
              "      <td>1.000000</td>\n",
              "      <td>0.000000</td>\n",
              "    </tr>\n",
              "    <tr>\n",
              "      <th>50%</th>\n",
              "      <td>2015.000000</td>\n",
              "      <td>567957.500000</td>\n",
              "      <td>37.00000</td>\n",
              "      <td>99.000000</td>\n",
              "      <td>271.875000</td>\n",
              "      <td>10.200000</td>\n",
              "      <td>30.590000</td>\n",
              "      <td>101.000000</td>\n",
              "      <td>4.000000</td>\n",
              "      <td>1.000000</td>\n",
              "      <td>0.000000</td>\n",
              "    </tr>\n",
              "    <tr>\n",
              "      <th>75%</th>\n",
              "      <td>2015.000000</td>\n",
              "      <td>773280.250000</td>\n",
              "      <td>44.00000</td>\n",
              "      <td>127.000000</td>\n",
              "      <td>326.212500</td>\n",
              "      <td>12.000000</td>\n",
              "      <td>36.797500</td>\n",
              "      <td>114.000000</td>\n",
              "      <td>6.000000</td>\n",
              "      <td>2.000000</td>\n",
              "      <td>0.000000</td>\n",
              "    </tr>\n",
              "    <tr>\n",
              "      <th>max</th>\n",
              "      <td>2022.000000</td>\n",
              "      <td>999961.000000</td>\n",
              "      <td>82.00000</td>\n",
              "      <td>243.000000</td>\n",
              "      <td>27990.000000</td>\n",
              "      <td>20.000000</td>\n",
              "      <td>59.640000</td>\n",
              "      <td>175.000000</td>\n",
              "      <td>19.000000</td>\n",
              "      <td>9.000000</td>\n",
              "      <td>1.000000</td>\n",
              "    </tr>\n",
              "  </tbody>\n",
              "</table>\n",
              "</div>"
            ],
            "text/plain": [
              "              year    customer_id  ...  customer_support_calls        churn\n",
              "count  2000.000000    2000.000000  ...             2000.000000  1965.000000\n",
              "mean   2015.322000  554887.157500  ...                1.547000     0.133333\n",
              "std       1.466762  261033.690318  ...                1.315164     0.340021\n",
              "min    2015.000000  100198.000000  ...                0.000000     0.000000\n",
              "25%    2015.000000  328634.750000  ...                1.000000     0.000000\n",
              "50%    2015.000000  567957.500000  ...                1.000000     0.000000\n",
              "75%    2015.000000  773280.250000  ...                2.000000     0.000000\n",
              "max    2022.000000  999961.000000  ...                9.000000     1.000000\n",
              "\n",
              "[8 rows x 11 columns]"
            ]
          },
          "metadata": {},
          "execution_count": 24
        }
      ]
    },
    {
      "cell_type": "code",
      "metadata": {
        "colab": {
          "base_uri": "https://localhost:8080/",
          "height": 369
        },
        "id": "8bv1nI6pcQ0g",
        "outputId": "a8326a88-48ee-45b5-f050-89bd434120e9"
      },
      "source": [
        "#check label distribution\n",
        "sns.countplot(df.churn)\n",
        "df.churn.value_counts()"
      ],
      "execution_count": 25,
      "outputs": [
        {
          "output_type": "stream",
          "name": "stderr",
          "text": [
            "Pass the following variable as a keyword arg: x. From version 0.12, the only valid positional argument will be `data`, and passing other arguments without an explicit keyword will result in an error or misinterpretation.\n"
          ]
        },
        {
          "output_type": "execute_result",
          "data": {
            "text/plain": [
              "0.0    1703\n",
              "1.0     262\n",
              "Name: churn, dtype: int64"
            ]
          },
          "metadata": {},
          "execution_count": 25
        },
        {
          "output_type": "display_data",
          "data": {
            "image/png": "[encoded data removed]",
            "text/plain": [
              "<Figure size 432x288 with 1 Axes>"
            ]
          },
          "metadata": {
            "needs_background": "light"
          }
        }
      ]
    },
    {
      "cell_type": "code",
      "metadata": {
        "colab": {
          "base_uri": "https://localhost:8080/",
          "height": 335
        },
        "id": "F2JEx2_GcVoY",
        "outputId": "c909e099-ca7e-4bb8-de25-776306978415"
      },
      "source": [
        "#EDA\n",
        "sns.countplot(df.no_of_days_subscribed)"
      ],
      "execution_count": 10,
      "outputs": [
        {
          "output_type": "stream",
          "name": "stderr",
          "text": [
            "Pass the following variable as a keyword arg: x. From version 0.12, the only valid positional argument will be `data`, and passing other arguments without an explicit keyword will result in an error or misinterpretation.\n"
          ]
        },
        {
          "output_type": "execute_result",
          "data": {
            "text/plain": [
              "<matplotlib.axes._subplots.AxesSubplot at 0x7f8398691c50>"
            ]
          },
          "metadata": {},
          "execution_count": 10
        },
        {
          "output_type": "display_data",
          "data": {
            "image/png": "[encoded data removed]",
            "text/plain": [
              "<Figure size 432x288 with 1 Axes>"
            ]
          },
          "metadata": {
            "needs_background": "light"
          }
        }
      ]
    },
    {
      "cell_type": "code",
      "metadata": {
        "colab": {
          "base_uri": "https://localhost:8080/",
          "height": 335
        },
        "id": "LDQZmTngcsj2",
        "outputId": "d7a1709d-a5ba-4fc0-9838-706226155fe4"
      },
      "source": [
        "sns.countplot(df.minimum_daily_mins)"
      ],
      "execution_count": 11,
      "outputs": [
        {
          "output_type": "stream",
          "name": "stderr",
          "text": [
            "Pass the following variable as a keyword arg: x. From version 0.12, the only valid positional argument will be `data`, and passing other arguments without an explicit keyword will result in an error or misinterpretation.\n"
          ]
        },
        {
          "output_type": "execute_result",
          "data": {
            "text/plain": [
              "<matplotlib.axes._subplots.AxesSubplot at 0x7f8398278990>"
            ]
          },
          "metadata": {},
          "execution_count": 11
        },
        {
          "output_type": "display_data",
          "data": {
            "image/png": "[encoded data removed]",
            "text/plain": [
              "<Figure size 432x288 with 1 Axes>"
            ]
          },
          "metadata": {
            "needs_background": "light"
          }
        }
      ]
    },
    {
      "cell_type": "code",
      "metadata": {
        "colab": {
          "base_uri": "https://localhost:8080/",
          "height": 335
        },
        "id": "rxav26F-d7QO",
        "outputId": "494cfcc5-17ae-4e0d-f780-4b0c0acf5e31"
      },
      "source": [
        "sns.countplot(df.mail_subscribed)"
      ],
      "execution_count": 12,
      "outputs": [
        {
          "output_type": "stream",
          "name": "stderr",
          "text": [
            "Pass the following variable as a keyword arg: x. From version 0.12, the only valid positional argument will be `data`, and passing other arguments without an explicit keyword will result in an error or misinterpretation.\n"
          ]
        },
        {
          "output_type": "execute_result",
          "data": {
            "text/plain": [
              "<matplotlib.axes._subplots.AxesSubplot at 0x7f83979c5210>"
            ]
          },
          "metadata": {},
          "execution_count": 12
        },
        {
          "output_type": "display_data",
          "data": {
            "image/png": "[encoded data removed]",
            "text/plain": [
              "<Figure size 432x288 with 1 Axes>"
            ]
          },
          "metadata": {
            "needs_background": "light"
          }
        }
      ]
    },
    {
      "cell_type": "code",
      "metadata": {
        "colab": {
          "base_uri": "https://localhost:8080/",
          "height": 335
        },
        "id": "jYGcHr2seWCI",
        "outputId": "77bde548-b5fd-4abb-8279-903cb26c5c9e"
      },
      "source": [
        "sns.countplot(df.weekly_mins_watched)"
      ],
      "execution_count": 13,
      "outputs": [
        {
          "output_type": "stream",
          "name": "stderr",
          "text": [
            "Pass the following variable as a keyword arg: x. From version 0.12, the only valid positional argument will be `data`, and passing other arguments without an explicit keyword will result in an error or misinterpretation.\n"
          ]
        },
        {
          "output_type": "execute_result",
          "data": {
            "text/plain": [
              "<matplotlib.axes._subplots.AxesSubplot at 0x7f839771d050>"
            ]
          },
          "metadata": {},
          "execution_count": 13
        },
        {
          "output_type": "display_data",
          "data": {
            "image/png": "[encoded data removed]",
            "text/plain": [
              "<Figure size 432x288 with 1 Axes>"
            ]
          },
          "metadata": {
            "needs_background": "light"
          }
        }
      ]
    },
    {
      "cell_type": "code",
      "metadata": {
        "colab": {
          "base_uri": "https://localhost:8080/",
          "height": 335
        },
        "id": "Z9VkDllteeMW",
        "outputId": "c9964a90-2257-4029-a642-a949392f487c"
      },
      "source": [
        "sns.countplot(df.minimum_daily_mins)"
      ],
      "execution_count": null,
      "outputs": [
        {
          "output_type": "stream",
          "name": "stderr",
          "text": [
            "Pass the following variable as a keyword arg: x. From version 0.12, the only valid positional argument will be `data`, and passing other arguments without an explicit keyword will result in an error or misinterpretation.\n"
          ]
        },
        {
          "output_type": "execute_result",
          "data": {
            "text/plain": [
              "<matplotlib.axes._subplots.AxesSubplot at 0x7f890376f790>"
            ]
          },
          "metadata": {},
          "execution_count": 22
        },
        {
          "output_type": "display_data",
          "data": {
            "image/png": "[encoded data removed]",
            "text/plain": [
              "<Figure size 432x288 with 1 Axes>"
            ]
          },
          "metadata": {
            "needs_background": "light"
          }
        }
      ]
    },
    {
      "cell_type": "code",
      "metadata": {
        "colab": {
          "base_uri": "https://localhost:8080/",
          "height": 226
        },
        "id": "rcjFqQNWeJny",
        "outputId": "9ddd4b45-7f32-40ef-e891-42d61505d144"
      },
      "source": [
        "#Columns selection\n",
        "col = ['gender', 'age', 'no_of_days_subscribed', 'multi_screen', 'mail_subscribed', 'weekly_mins_watched', 'minimum_daily_mins', 'maximum_daily_mins',\n",
        "       'weekly_max_night_mins', 'videos_watched', 'maximum_days_inactive', 'customer_support_calls', 'churn']\n",
        "data = df[col].copy()\n",
        "data.head()"
      ],
      "execution_count": 37,
      "outputs": [
        {
          "output_type": "execute_result",
          "data": {
            "text/html": [
              "<div>\n",
              "<style scoped>\n",
              "    .dataframe tbody tr th:only-of-type {\n",
              "        vertical-align: middle;\n",
              "    }\n",
              "\n",
              "    .dataframe tbody tr th {\n",
              "        vertical-align: top;\n",
              "    }\n",
              "\n",
              "    .dataframe thead th {\n",
              "        text-align: right;\n",
              "    }\n",
              "</style>\n",
              "<table border=\"1\" class=\"dataframe\">\n",
              "  <thead>\n",
              "    <tr style=\"text-align: right;\">\n",
              "      <th></th>\n",
              "      <th>gender</th>\n",
              "      <th>age</th>\n",
              "      <th>no_of_days_subscribed</th>\n",
              "      <th>multi_screen</th>\n",
              "      <th>mail_subscribed</th>\n",
              "      <th>weekly_mins_watched</th>\n",
              "      <th>minimum_daily_mins</th>\n",
              "      <th>maximum_daily_mins</th>\n",
              "      <th>weekly_max_night_mins</th>\n",
              "      <th>videos_watched</th>\n",
              "      <th>maximum_days_inactive</th>\n",
              "      <th>customer_support_calls</th>\n",
              "      <th>churn</th>\n",
              "    </tr>\n",
              "  </thead>\n",
              "  <tbody>\n",
              "    <tr>\n",
              "      <th>0</th>\n",
              "      <td>Female</td>\n",
              "      <td>36</td>\n",
              "      <td>62.0</td>\n",
              "      <td>no</td>\n",
              "      <td>no</td>\n",
              "      <td>148.35</td>\n",
              "      <td>12.2</td>\n",
              "      <td>16.81</td>\n",
              "      <td>82</td>\n",
              "      <td>1.0</td>\n",
              "      <td>4</td>\n",
              "      <td>1</td>\n",
              "      <td>0.0</td>\n",
              "    </tr>\n",
              "    <tr>\n",
              "      <th>1</th>\n",
              "      <td>Female</td>\n",
              "      <td>39</td>\n",
              "      <td>149.0</td>\n",
              "      <td>no</td>\n",
              "      <td>no</td>\n",
              "      <td>294.45</td>\n",
              "      <td>7.7</td>\n",
              "      <td>33.37</td>\n",
              "      <td>87</td>\n",
              "      <td>3.0</td>\n",
              "      <td>3</td>\n",
              "      <td>2</td>\n",
              "      <td>0.0</td>\n",
              "    </tr>\n",
              "    <tr>\n",
              "      <th>2</th>\n",
              "      <td>Female</td>\n",
              "      <td>65</td>\n",
              "      <td>126.0</td>\n",
              "      <td>no</td>\n",
              "      <td>no</td>\n",
              "      <td>87.30</td>\n",
              "      <td>11.9</td>\n",
              "      <td>9.89</td>\n",
              "      <td>91</td>\n",
              "      <td>1.0</td>\n",
              "      <td>4</td>\n",
              "      <td>5</td>\n",
              "      <td>1.0</td>\n",
              "    </tr>\n",
              "    <tr>\n",
              "      <th>3</th>\n",
              "      <td>Female</td>\n",
              "      <td>24</td>\n",
              "      <td>131.0</td>\n",
              "      <td>no</td>\n",
              "      <td>yes</td>\n",
              "      <td>321.30</td>\n",
              "      <td>9.5</td>\n",
              "      <td>36.41</td>\n",
              "      <td>102</td>\n",
              "      <td>4.0</td>\n",
              "      <td>3</td>\n",
              "      <td>3</td>\n",
              "      <td>0.0</td>\n",
              "    </tr>\n",
              "    <tr>\n",
              "      <th>4</th>\n",
              "      <td>Female</td>\n",
              "      <td>40</td>\n",
              "      <td>191.0</td>\n",
              "      <td>no</td>\n",
              "      <td>no</td>\n",
              "      <td>243.00</td>\n",
              "      <td>10.9</td>\n",
              "      <td>27.54</td>\n",
              "      <td>83</td>\n",
              "      <td>7.0</td>\n",
              "      <td>3</td>\n",
              "      <td>1</td>\n",
              "      <td>0.0</td>\n",
              "    </tr>\n",
              "  </tbody>\n",
              "</table>\n",
              "</div>"
            ],
            "text/plain": [
              "   gender  age  ...  customer_support_calls churn\n",
              "0  Female   36  ...                       1   0.0\n",
              "1  Female   39  ...                       2   0.0\n",
              "2  Female   65  ...                       5   1.0\n",
              "3  Female   24  ...                       3   0.0\n",
              "4  Female   40  ...                       1   0.0\n",
              "\n",
              "[5 rows x 13 columns]"
            ]
          },
          "metadata": {},
          "execution_count": 37
        }
      ]
    },
    {
      "cell_type": "code",
      "metadata": {
        "colab": {
          "base_uri": "https://localhost:8080/",
          "height": 320
        },
        "id": "4h8ak_G4KUgm",
        "outputId": "be4432ba-770e-43b0-d16e-b5431587a14e"
      },
      "source": [
        "data.describe()"
      ],
      "execution_count": 42,
      "outputs": [
        {
          "output_type": "execute_result",
          "data": {
            "text/html": [
              "<div>\n",
              "<style scoped>\n",
              "    .dataframe tbody tr th:only-of-type {\n",
              "        vertical-align: middle;\n",
              "    }\n",
              "\n",
              "    .dataframe tbody tr th {\n",
              "        vertical-align: top;\n",
              "    }\n",
              "\n",
              "    .dataframe thead th {\n",
              "        text-align: right;\n",
              "    }\n",
              "</style>\n",
              "<table border=\"1\" class=\"dataframe\">\n",
              "  <thead>\n",
              "    <tr style=\"text-align: right;\">\n",
              "      <th></th>\n",
              "      <th>age</th>\n",
              "      <th>no_of_days_subscribed</th>\n",
              "      <th>weekly_mins_watched</th>\n",
              "      <th>minimum_daily_mins</th>\n",
              "      <th>maximum_daily_mins</th>\n",
              "      <th>weekly_max_night_mins</th>\n",
              "      <th>videos_watched</th>\n",
              "      <th>customer_support_calls</th>\n",
              "      <th>churn</th>\n",
              "    </tr>\n",
              "  </thead>\n",
              "  <tbody>\n",
              "    <tr>\n",
              "      <th>count</th>\n",
              "      <td>2000.00000</td>\n",
              "      <td>1.980000e+03</td>\n",
              "      <td>1.990000e+03</td>\n",
              "      <td>2.000000e+03</td>\n",
              "      <td>2.000000e+03</td>\n",
              "      <td>2.000000e+03</td>\n",
              "      <td>1975.000000</td>\n",
              "      <td>2000.000000</td>\n",
              "      <td>1965.000000</td>\n",
              "    </tr>\n",
              "    <tr>\n",
              "      <th>mean</th>\n",
              "      <td>38.69050</td>\n",
              "      <td>-1.695053e-16</td>\n",
              "      <td>6.152951e-17</td>\n",
              "      <td>-1.883042e-16</td>\n",
              "      <td>-6.605827e-18</td>\n",
              "      <td>2.741141e-16</td>\n",
              "      <td>4.488608</td>\n",
              "      <td>1.547000</td>\n",
              "      <td>0.133333</td>\n",
              "    </tr>\n",
              "    <tr>\n",
              "      <th>std</th>\n",
              "      <td>10.20641</td>\n",
              "      <td>1.000253e+00</td>\n",
              "      <td>1.000251e+00</td>\n",
              "      <td>1.000250e+00</td>\n",
              "      <td>1.000250e+00</td>\n",
              "      <td>1.000250e+00</td>\n",
              "      <td>2.491067</td>\n",
              "      <td>1.315164</td>\n",
              "      <td>0.340021</td>\n",
              "    </tr>\n",
              "    <tr>\n",
              "      <th>min</th>\n",
              "      <td>18.00000</td>\n",
              "      <td>-2.489817e+00</td>\n",
              "      <td>-2.034887e-01</td>\n",
              "      <td>-3.662244e+00</td>\n",
              "      <td>-3.355010e+00</td>\n",
              "      <td>-2.991897e+00</td>\n",
              "      <td>0.000000</td>\n",
              "      <td>0.000000</td>\n",
              "      <td>0.000000</td>\n",
              "    </tr>\n",
              "    <tr>\n",
              "      <th>25%</th>\n",
              "      <td>32.00000</td>\n",
              "      <td>-6.769971e-01</td>\n",
              "      <td>-1.052845e-01</td>\n",
              "      <td>-6.458939e-01</td>\n",
              "      <td>-6.448840e-01</td>\n",
              "      <td>-6.871086e-01</td>\n",
              "      <td>3.000000</td>\n",
              "      <td>1.000000</td>\n",
              "      <td>0.000000</td>\n",
              "    </tr>\n",
              "    <tr>\n",
              "      <th>50%</th>\n",
              "      <td>37.00000</td>\n",
              "      <td>-2.236777e-02</td>\n",
              "      <td>-8.182423e-02</td>\n",
              "      <td>4.668160e-04</td>\n",
              "      <td>-3.372455e-03</td>\n",
              "      <td>2.993664e-02</td>\n",
              "      <td>4.000000</td>\n",
              "      <td>1.000000</td>\n",
              "      <td>0.000000</td>\n",
              "    </tr>\n",
              "    <tr>\n",
              "      <th>75%</th>\n",
              "      <td>44.00000</td>\n",
              "      <td>6.826177e-01</td>\n",
              "      <td>-5.750811e-02</td>\n",
              "      <td>6.468275e-01</td>\n",
              "      <td>6.767612e-01</td>\n",
              "      <td>6.957643e-01</td>\n",
              "      <td>6.000000</td>\n",
              "      <td>2.000000</td>\n",
              "      <td>0.000000</td>\n",
              "    </tr>\n",
              "    <tr>\n",
              "      <th>max</th>\n",
              "      <td>82.00000</td>\n",
              "      <td>3.603272e+00</td>\n",
              "      <td>1.232208e+01</td>\n",
              "      <td>3.519542e+00</td>\n",
              "      <td>3.179533e+00</td>\n",
              "      <td>3.820033e+00</td>\n",
              "      <td>19.000000</td>\n",
              "      <td>9.000000</td>\n",
              "      <td>1.000000</td>\n",
              "    </tr>\n",
              "  </tbody>\n",
              "</table>\n",
              "</div>"
            ],
            "text/plain": [
              "              age  no_of_days_subscribed  ...  customer_support_calls        churn\n",
              "count  2000.00000           1.980000e+03  ...             2000.000000  1965.000000\n",
              "mean     38.69050          -1.695053e-16  ...                1.547000     0.133333\n",
              "std      10.20641           1.000253e+00  ...                1.315164     0.340021\n",
              "min      18.00000          -2.489817e+00  ...                0.000000     0.000000\n",
              "25%      32.00000          -6.769971e-01  ...                1.000000     0.000000\n",
              "50%      37.00000          -2.236777e-02  ...                1.000000     0.000000\n",
              "75%      44.00000           6.826177e-01  ...                2.000000     0.000000\n",
              "max      82.00000           3.603272e+00  ...                9.000000     1.000000\n",
              "\n",
              "[8 rows x 9 columns]"
            ]
          },
          "metadata": {},
          "execution_count": 42
        }
      ]
    },
    {
      "cell_type": "code",
      "metadata": {
        "colab": {
          "base_uri": "https://localhost:8080/"
        },
        "id": "m6-oaIY3gLqj",
        "outputId": "a71516c1-e143-43c3-b95c-a79de4f7b2d1"
      },
      "source": [
        "data.shape"
      ],
      "execution_count": 28,
      "outputs": [
        {
          "output_type": "execute_result",
          "data": {
            "text/plain": [
              "(2000, 13)"
            ]
          },
          "metadata": {},
          "execution_count": 28
        }
      ]
    },
    {
      "cell_type": "code",
      "metadata": {
        "colab": {
          "base_uri": "https://localhost:8080/"
        },
        "id": "ukxBygKrgOfU",
        "outputId": "73a445b9-9ba4-47b8-8a6b-f745b9ab1148"
      },
      "source": [
        "#dropping rows of null values\n",
        "data.dropna(inplace = True)\n",
        "data.shape"
      ],
      "execution_count": 43,
      "outputs": [
        {
          "output_type": "execute_result",
          "data": {
            "text/plain": [
              "(1866, 13)"
            ]
          },
          "metadata": {},
          "execution_count": 43
        }
      ]
    },
    {
      "cell_type": "code",
      "metadata": {
        "id": "tUq5ZKr4hhJf"
      },
      "source": [
        "#Data Preproccessing\n",
        "data['mail_subscribed'] = data['mail_subscribed'].apply(lambda x: '0' if x not in ['no', 'yes'] else x)\n",
        "data.drop(data[data['mail_subscribed'] == '0'].index, inplace = True)\n",
        "\n",
        "data.drop(data[data['maximum_days_inactive'] == 'NO'].index[0], inplace = True)\n",
        "\n",
        "\n",
        "data['maximum_days_inactive'] = data['maximum_days_inactive'].apply(lambda x : int(x))\n",
        "data['churn'] = data['churn'].apply(lambda x : int(x))\n",
        "\n",
        "encode_col = ['multi_screen', 'mail_subscribed', 'gender']\n",
        "encode = LabelEncoder()\n",
        "for ec in encode_col:\n",
        "  data[ec] = encode.fit_transform(data[ec])"
      ],
      "execution_count": 44,
      "outputs": []
    },
    {
      "cell_type": "code",
      "metadata": {
        "id": "3ZptODGnf7qY"
      },
      "source": [
        "#Features and variables\n",
        "\n",
        "X = data.drop(columns = ['churn'])\n",
        "y = data['churn']"
      ],
      "execution_count": 45,
      "outputs": []
    },
    {
      "cell_type": "code",
      "metadata": {
        "id": "xgIyFwrUrTyZ"
      },
      "source": [
        "#import Counter\n",
        "X_train, X_test, y_train, y_test = train_test_split(X, y, train_size=0.8, random_state=42)\n",
        "#Counter(y_train)"
      ],
      "execution_count": 46,
      "outputs": []
    },
    {
      "cell_type": "code",
      "metadata": {
        "colab": {
          "base_uri": "https://localhost:8080/",
          "height": 303
        },
        "id": "14CCuKklgdFr",
        "outputId": "7d8ebda0-6990-4aa5-dd04-367bae463bf7"
      },
      "source": [
        "#model building using XGboost classifier\n",
        "clf_d = xgboost.XGBClassifier()\n",
        "clf_d.fit(X_train, y_train)\n",
        "print(f'Accuracy on Train Data : {clf_d.score(X_train, y_train)}')\n",
        "print(f'Accuracy on Test Data: {clf_d.score(X_test, y_test)}')\n",
        "y_pred = clf_d.predict(X_test)\n",
        "print(classification_report(y_test, y_pred))\n",
        "pd.DataFrame(confusion_matrix(y_test, y_pred))"
      ],
      "execution_count": 53,
      "outputs": [
        {
          "output_type": "stream",
          "name": "stdout",
          "text": [
            "Accuracy on Train Data : 0.937712895377129\n",
            "Accuracy on Test Data: 0.7667560321715817\n",
            "              precision    recall  f1-score   support\n",
            "\n",
            "           0       0.93      0.78      0.85       313\n",
            "           1       0.38      0.70      0.49        60\n",
            "\n",
            "    accuracy                           0.77       373\n",
            "   macro avg       0.65      0.74      0.67       373\n",
            "weighted avg       0.84      0.77      0.79       373\n",
            "\n"
          ]
        },
        {
          "output_type": "execute_result",
          "data": {
            "text/html": [
              "<div>\n",
              "<style scoped>\n",
              "    .dataframe tbody tr th:only-of-type {\n",
              "        vertical-align: middle;\n",
              "    }\n",
              "\n",
              "    .dataframe tbody tr th {\n",
              "        vertical-align: top;\n",
              "    }\n",
              "\n",
              "    .dataframe thead th {\n",
              "        text-align: right;\n",
              "    }\n",
              "</style>\n",
              "<table border=\"1\" class=\"dataframe\">\n",
              "  <thead>\n",
              "    <tr style=\"text-align: right;\">\n",
              "      <th></th>\n",
              "      <th>0</th>\n",
              "      <th>1</th>\n",
              "    </tr>\n",
              "  </thead>\n",
              "  <tbody>\n",
              "    <tr>\n",
              "      <th>0</th>\n",
              "      <td>244</td>\n",
              "      <td>69</td>\n",
              "    </tr>\n",
              "    <tr>\n",
              "      <th>1</th>\n",
              "      <td>18</td>\n",
              "      <td>42</td>\n",
              "    </tr>\n",
              "  </tbody>\n",
              "</table>\n",
              "</div>"
            ],
            "text/plain": [
              "     0   1\n",
              "0  244  69\n",
              "1   18  42"
            ]
          },
          "metadata": {},
          "execution_count": 53
        }
      ]
    },
    {
      "cell_type": "code",
      "metadata": {
        "colab": {
          "base_uri": "https://localhost:8080/"
        },
        "id": "XsV9kL67NSHW",
        "outputId": "f05bee98-adb5-4c39-8223-9b85ce9ca6ec"
      },
      "source": [
        "X.shape"
      ],
      "execution_count": 56,
      "outputs": [
        {
          "output_type": "execute_result",
          "data": {
            "text/plain": [
              "(1861, 12)"
            ]
          },
          "metadata": {},
          "execution_count": 56
        }
      ]
    },
    {
      "cell_type": "code",
      "metadata": {
        "colab": {
          "base_uri": "https://localhost:8080/",
          "height": 320
        },
        "id": "sQpuKPddnoT6",
        "outputId": "76eee913-74dc-498c-a43f-aae41296388c"
      },
      "source": [
        "#XGBoost\n",
        "#hyper-parameter Tuning\n",
        "\n",
        "#Providing a list of values for some xgboost model parameter\n",
        "params = {\n",
        "    'learning_rate': [0.05, 0.10, 0.15, 0.20, 0.25, 0.30],\n",
        "    'max_depth': [3, 5, 7, 9, 11],\n",
        "    'min_child_weight': [1, 2, 3, 5,7, 9],                            \n",
        "    'gamma': [0.0, 0.1, 0.2, 0.3, 0.4],\n",
        "    'colsample_bytree': [0.3, 0.4, 0.5, 0.7],\n",
        "    'n_estimators': [200,400,600,800],\n",
        "    'scale_pos_weight': [1, 5, 10, 20, 25, 50, 75, 100]\n",
        "}\n",
        "\n",
        "\n",
        "model = xgboost.XGBClassifier()                #Defining the model\n",
        "\n",
        "#Defining the Randomized search Cv function with its own parameter and evaluation metrix\n",
        "random_search = RandomizedSearchCV(model, param_distributions = params, n_iter = 30, \n",
        "                                   scoring = 'roc_auc', n_jobs = -1, cv = 5, verbose = 3)\n",
        "\n",
        "random_search.fit(X_train,y_train)             #fitting the random search model\n",
        "\n",
        "random_search.best_estimator_                  #getting the best parameter value for xg boost\n",
        "clf_d = random_search.best_estimator_\n",
        "\n",
        "clf_d.fit(X_train, y_train)\n",
        "print(f'Accuracy on Train Data : {clf_d.score(X_train, y_train)}')\n",
        "print(f'Accuracy on Test Data: {clf_d.score(X_test, y_test)}')\n",
        "y_pred = clf_d.predict(X_test)\n",
        "print(classification_report(y_test, y_pred))\n",
        "pd.DataFrame(confusion_matrix(y_test, y_pred))"
      ],
      "execution_count": 58,
      "outputs": [
        {
          "output_type": "stream",
          "name": "stdout",
          "text": [
            "Fitting 5 folds for each of 30 candidates, totalling 150 fits\n",
            "Accuracy on Train Data : 1.0\n",
            "Accuracy on Test Data: 0.7533512064343163\n",
            "              precision    recall  f1-score   support\n",
            "\n",
            "           0       0.97      0.73      0.83       313\n",
            "           1       0.38      0.88      0.54        60\n",
            "\n",
            "    accuracy                           0.75       373\n",
            "   macro avg       0.68      0.81      0.68       373\n",
            "weighted avg       0.88      0.75      0.78       373\n",
            "\n"
          ]
        },
        {
          "output_type": "execute_result",
          "data": {
            "text/html": [
              "<div>\n",
              "<style scoped>\n",
              "    .dataframe tbody tr th:only-of-type {\n",
              "        vertical-align: middle;\n",
              "    }\n",
              "\n",
              "    .dataframe tbody tr th {\n",
              "        vertical-align: top;\n",
              "    }\n",
              "\n",
              "    .dataframe thead th {\n",
              "        text-align: right;\n",
              "    }\n",
              "</style>\n",
              "<table border=\"1\" class=\"dataframe\">\n",
              "  <thead>\n",
              "    <tr style=\"text-align: right;\">\n",
              "      <th></th>\n",
              "      <th>0</th>\n",
              "      <th>1</th>\n",
              "    </tr>\n",
              "  </thead>\n",
              "  <tbody>\n",
              "    <tr>\n",
              "      <th>0</th>\n",
              "      <td>228</td>\n",
              "      <td>85</td>\n",
              "    </tr>\n",
              "    <tr>\n",
              "      <th>1</th>\n",
              "      <td>7</td>\n",
              "      <td>53</td>\n",
              "    </tr>\n",
              "  </tbody>\n",
              "</table>\n",
              "</div>"
            ],
            "text/plain": [
              "     0   1\n",
              "0  228  85\n",
              "1    7  53"
            ]
          },
          "metadata": {},
          "execution_count": 58
        }
      ]
    },
    {
      "cell_type": "code",
      "metadata": {
        "colab": {
          "base_uri": "https://localhost:8080/"
        },
        "id": "y7okdOgQo1rc",
        "outputId": "dcfcb0b6-ddc4-4846-dfd5-2801dd1ad04f"
      },
      "source": [
        "random_search.best_estimator_"
      ],
      "execution_count": 55,
      "outputs": [
        {
          "output_type": "execute_result",
          "data": {
            "text/plain": [
              "XGBClassifier(colsample_bytree=0.4, gamma=0.2, max_depth=9, n_estimators=800,\n",
              "              scale_pos_weight=5)"
            ]
          },
          "metadata": {},
          "execution_count": 55
        }
      ]
    },
    {
      "cell_type": "code",
      "metadata": {
        "id": "pOU_QHFVpTox",
        "colab": {
          "base_uri": "https://localhost:8080/",
          "height": 313
        },
        "outputId": "6ee1174a-65c2-416b-c818-feb953b44be7"
      },
      "source": [
        "xgboost.plot_importance(clf_d)\n",
        "#pyplot.show()"
      ],
      "execution_count": null,
      "outputs": [
        {
          "output_type": "execute_result",
          "data": {
            "text/plain": [
              "<matplotlib.axes._subplots.AxesSubplot at 0x7f00d4288cd0>"
            ]
          },
          "metadata": {},
          "execution_count": 81
        },
        {
          "output_type": "display_data",
          "data": {
            "image/png": "[encoded data removed]",
            "text/plain": [
              "<Figure size 432x288 with 1 Axes>"
            ]
          },
          "metadata": {
            "needs_background": "light"
          }
        }
      ]
    },
    {
      "cell_type": "code",
      "metadata": {
        "id": "xEQGbDwvl6tx",
        "colab": {
          "base_uri": "https://localhost:8080/",
          "height": 283
        },
        "outputId": "bc76c958-5f59-4f5d-e517-3c2fc52bfcec"
      },
      "source": [
        "#model evaluation on train data\n",
        "y_proba = clf_d.predict_proba(X_train)\n",
        "prob_bin = [x[1] for x in y_proba]\n",
        "met = pd.DataFrame([prob_bin, y_train]).transpose()\n",
        "met.columns = ['score', 'actual']\n",
        "met.sort_values('score', inplace = True)\n",
        "met.reset_index(drop = True, inplace = True)\n",
        "sns.lineplot(x = met.index, y = met['score'])\n",
        "sns.lineplot(x = met.index, y = met['actual'])"
      ],
      "execution_count": null,
      "outputs": [
        {
          "output_type": "execute_result",
          "data": {
            "text/plain": [
              "<matplotlib.axes._subplots.AxesSubplot at 0x7f00d42f3090>"
            ]
          },
          "metadata": {},
          "execution_count": 83
        },
        {
          "output_type": "display_data",
          "data": {
            "image/png": "[encoded data removed]",
            "text/plain": [
              "<Figure size 432x288 with 1 Axes>"
            ]
          },
          "metadata": {
            "needs_background": "light"
          }
        }
      ]
    },
    {
      "cell_type": "code",
      "metadata": {
        "colab": {
          "base_uri": "https://localhost:8080/",
          "height": 283
        },
        "id": "3ruByK5tpzWt",
        "outputId": "c7c3e59b-b5fd-4a6f-c246-d9fa7ffcb84d"
      },
      "source": [
        "#model evaluation on test data\n",
        "y_proba = clf_d.predict_proba(X_test)\n",
        "prob_bin = [x[1] for x in y_proba]\n",
        "met = pd.DataFrame([prob_bin, y_test]).transpose()\n",
        "met.columns = ['score', 'actual']\n",
        "met.sort_values('score', inplace = True)\n",
        "met.reset_index(drop = True, inplace = True)\n",
        "sns.lineplot(x = met.index, y = met['score'])\n",
        "sns.lineplot(x = met.index, y = met['actual'])"
      ],
      "execution_count": null,
      "outputs": [
        {
          "output_type": "execute_result",
          "data": {
            "text/plain": [
              "<matplotlib.axes._subplots.AxesSubplot at 0x7f00d4054a10>"
            ]
          },
          "metadata": {},
          "execution_count": 84
        },
        {
          "output_type": "display_data",
          "data": {
            "image/png": "[encoded data removed]",
            "text/plain": [
              "<Figure size 432x288 with 1 Axes>"
            ]
          },
          "metadata": {
            "needs_background": "light"
          }
        }
      ]
    }
  ]
}